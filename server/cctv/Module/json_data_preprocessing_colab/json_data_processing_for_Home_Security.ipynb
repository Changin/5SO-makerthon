{
  "nbformat": 4,
  "nbformat_minor": 0,
  "metadata": {
    "colab": {
      "name": "json_data_processing_for_Home_Security.ipynb",
      "provenance": [],
      "collapsed_sections": []
    },
    "kernelspec": {
      "name": "python3",
      "display_name": "Python 3"
    },
    "accelerator": "GPU"
  },
  "cells": [
    {
      "cell_type": "code",
      "metadata": {
        "id": "CBcp9XIZnjiL"
      },
      "source": [
        "import pandas as pd"
      ],
      "execution_count": null,
      "outputs": []
    },
    {
      "cell_type": "code",
      "metadata": {
        "id": "Nzbjz10dnuQN"
      },
      "source": [
        "data=pd.read_json(\"/content/drive/MyDrive/Home_Security_Json_Data_Preprocessing/Home_Security_Raw_alphapose-results.json\")"
      ],
      "execution_count": null,
      "outputs": []
    },
    {
      "cell_type": "code",
      "metadata": {
        "colab": {
          "base_uri": "https://localhost:8080/",
          "height": 419
        },
        "id": "tdIay_EMokV0",
        "outputId": "cbd86c5b-afb2-4258-ad68-24fd5ffa4c47"
      },
      "source": [
        "data"
      ],
      "execution_count": null,
      "outputs": [
        {
          "output_type": "execute_result",
          "data": {
            "text/html": [
              "<div>\n",
              "<style scoped>\n",
              "    .dataframe tbody tr th:only-of-type {\n",
              "        vertical-align: middle;\n",
              "    }\n",
              "\n",
              "    .dataframe tbody tr th {\n",
              "        vertical-align: top;\n",
              "    }\n",
              "\n",
              "    .dataframe thead th {\n",
              "        text-align: right;\n",
              "    }\n",
              "</style>\n",
              "<table border=\"1\" class=\"dataframe\">\n",
              "  <thead>\n",
              "    <tr style=\"text-align: right;\">\n",
              "      <th></th>\n",
              "      <th>image_id</th>\n",
              "      <th>category_id</th>\n",
              "      <th>keypoints</th>\n",
              "      <th>score</th>\n",
              "      <th>box</th>\n",
              "      <th>idx</th>\n",
              "    </tr>\n",
              "  </thead>\n",
              "  <tbody>\n",
              "    <tr>\n",
              "      <th>0</th>\n",
              "      <td>climbing_1.jpg</td>\n",
              "      <td>1</td>\n",
              "      <td>[1324.44775390625, 762.8032836914062, 0.801606...</td>\n",
              "      <td>3.024694</td>\n",
              "      <td>[700.9279174804688, 476.8304748535156, 681.943...</td>\n",
              "      <td>[0.0]</td>\n",
              "    </tr>\n",
              "    <tr>\n",
              "      <th>1</th>\n",
              "      <td>climbing_2.jpg</td>\n",
              "      <td>1</td>\n",
              "      <td>[1224.4632568359375, 668.5366821289062, 0.8609...</td>\n",
              "      <td>2.932522</td>\n",
              "      <td>[658.8280029296875, 430.3565673828125, 785.196...</td>\n",
              "      <td>[0.0]</td>\n",
              "    </tr>\n",
              "    <tr>\n",
              "      <th>2</th>\n",
              "      <td>climbing_3.jpg</td>\n",
              "      <td>1</td>\n",
              "      <td>[973.7047119140625, 735.8995971679688, 0.46915...</td>\n",
              "      <td>2.855166</td>\n",
              "      <td>[599.864501953125, 425.2984313964844, 863.9481...</td>\n",
              "      <td>[0.0]</td>\n",
              "    </tr>\n",
              "    <tr>\n",
              "      <th>3</th>\n",
              "      <td>climbing_4.jpg</td>\n",
              "      <td>1</td>\n",
              "      <td>[868.5424194335938, 904.8358154296875, 0.78670...</td>\n",
              "      <td>2.944008</td>\n",
              "      <td>[623.65380859375, 629.3707885742188, 808.34216...</td>\n",
              "      <td>[0.0]</td>\n",
              "    </tr>\n",
              "    <tr>\n",
              "      <th>4</th>\n",
              "      <td>climbing_4.jpg</td>\n",
              "      <td>1</td>\n",
              "      <td>[1354.34912109375, 900.569091796875, 0.1299139...</td>\n",
              "      <td>0.792699</td>\n",
              "      <td>[1346.9588623046875, 867.1532592773438, 38.093...</td>\n",
              "      <td>[0.0]</td>\n",
              "    </tr>\n",
              "    <tr>\n",
              "      <th>...</th>\n",
              "      <td>...</td>\n",
              "      <td>...</td>\n",
              "      <td>...</td>\n",
              "      <td>...</td>\n",
              "      <td>...</td>\n",
              "      <td>...</td>\n",
              "    </tr>\n",
              "    <tr>\n",
              "      <th>802</th>\n",
              "      <td>standing_285.jpg</td>\n",
              "      <td>1</td>\n",
              "      <td>[810.0691528320312, 859.4284057617188, 0.76541...</td>\n",
              "      <td>3.018572</td>\n",
              "      <td>[605.69775390625, 441.61224365234375, 567.4071...</td>\n",
              "      <td>[0.0]</td>\n",
              "    </tr>\n",
              "    <tr>\n",
              "      <th>803</th>\n",
              "      <td>standing_286.jpg</td>\n",
              "      <td>1</td>\n",
              "      <td>[770.137939453125, 1368.3897705078125, 0.80487...</td>\n",
              "      <td>3.075532</td>\n",
              "      <td>[497.7434387207031, 951.5119018554688, 703.097...</td>\n",
              "      <td>[0.0]</td>\n",
              "    </tr>\n",
              "    <tr>\n",
              "      <th>804</th>\n",
              "      <td>standing_286.jpg</td>\n",
              "      <td>1</td>\n",
              "      <td>[408.6441345214844, 825.394775390625, 0.592812...</td>\n",
              "      <td>1.486715</td>\n",
              "      <td>[390.2170104980469, 816.977294921875, 47.33117...</td>\n",
              "      <td>[0.0]</td>\n",
              "    </tr>\n",
              "    <tr>\n",
              "      <th>805</th>\n",
              "      <td>standing_286.jpg</td>\n",
              "      <td>1</td>\n",
              "      <td>[386.5804138183594, 828.6361083984375, 0.81562...</td>\n",
              "      <td>2.010567</td>\n",
              "      <td>[362.9747619628906, 812.7479248046875, 34.2287...</td>\n",
              "      <td>[0.0]</td>\n",
              "    </tr>\n",
              "    <tr>\n",
              "      <th>806</th>\n",
              "      <td>standing_286.jpg</td>\n",
              "      <td>1</td>\n",
              "      <td>[363.9754638671875, 834.88427734375, 0.3040798...</td>\n",
              "      <td>1.238515</td>\n",
              "      <td>[345.0645751953125, 811.4522705078125, 26.6636...</td>\n",
              "      <td>[0.0]</td>\n",
              "    </tr>\n",
              "  </tbody>\n",
              "</table>\n",
              "<p>807 rows × 6 columns</p>\n",
              "</div>"
            ],
            "text/plain": [
              "             image_id  ...    idx\n",
              "0      climbing_1.jpg  ...  [0.0]\n",
              "1      climbing_2.jpg  ...  [0.0]\n",
              "2      climbing_3.jpg  ...  [0.0]\n",
              "3      climbing_4.jpg  ...  [0.0]\n",
              "4      climbing_4.jpg  ...  [0.0]\n",
              "..                ...  ...    ...\n",
              "802  standing_285.jpg  ...  [0.0]\n",
              "803  standing_286.jpg  ...  [0.0]\n",
              "804  standing_286.jpg  ...  [0.0]\n",
              "805  standing_286.jpg  ...  [0.0]\n",
              "806  standing_286.jpg  ...  [0.0]\n",
              "\n",
              "[807 rows x 6 columns]"
            ]
          },
          "metadata": {
            "tags": []
          },
          "execution_count": 3
        }
      ]
    },
    {
      "cell_type": "code",
      "metadata": {
        "colab": {
          "base_uri": "https://localhost:8080/",
          "height": 297
        },
        "id": "aU9cd9-bo1Ez",
        "outputId": "db67838b-36c7-4d6e-c62c-609255db556f"
      },
      "source": [
        "data.describe()"
      ],
      "execution_count": null,
      "outputs": [
        {
          "output_type": "execute_result",
          "data": {
            "text/html": [
              "<div>\n",
              "<style scoped>\n",
              "    .dataframe tbody tr th:only-of-type {\n",
              "        vertical-align: middle;\n",
              "    }\n",
              "\n",
              "    .dataframe tbody tr th {\n",
              "        vertical-align: top;\n",
              "    }\n",
              "\n",
              "    .dataframe thead th {\n",
              "        text-align: right;\n",
              "    }\n",
              "</style>\n",
              "<table border=\"1\" class=\"dataframe\">\n",
              "  <thead>\n",
              "    <tr style=\"text-align: right;\">\n",
              "      <th></th>\n",
              "      <th>category_id</th>\n",
              "      <th>score</th>\n",
              "    </tr>\n",
              "  </thead>\n",
              "  <tbody>\n",
              "    <tr>\n",
              "      <th>count</th>\n",
              "      <td>807.0</td>\n",
              "      <td>807.000000</td>\n",
              "    </tr>\n",
              "    <tr>\n",
              "      <th>mean</th>\n",
              "      <td>1.0</td>\n",
              "      <td>2.605727</td>\n",
              "    </tr>\n",
              "    <tr>\n",
              "      <th>std</th>\n",
              "      <td>0.0</td>\n",
              "      <td>0.683739</td>\n",
              "    </tr>\n",
              "    <tr>\n",
              "      <th>min</th>\n",
              "      <td>1.0</td>\n",
              "      <td>0.623101</td>\n",
              "    </tr>\n",
              "    <tr>\n",
              "      <th>25%</th>\n",
              "      <td>1.0</td>\n",
              "      <td>2.378653</td>\n",
              "    </tr>\n",
              "    <tr>\n",
              "      <th>50%</th>\n",
              "      <td>1.0</td>\n",
              "      <td>2.966053</td>\n",
              "    </tr>\n",
              "    <tr>\n",
              "      <th>75%</th>\n",
              "      <td>1.0</td>\n",
              "      <td>3.037776</td>\n",
              "    </tr>\n",
              "    <tr>\n",
              "      <th>max</th>\n",
              "      <td>1.0</td>\n",
              "      <td>3.176821</td>\n",
              "    </tr>\n",
              "  </tbody>\n",
              "</table>\n",
              "</div>"
            ],
            "text/plain": [
              "       category_id       score\n",
              "count        807.0  807.000000\n",
              "mean           1.0    2.605727\n",
              "std            0.0    0.683739\n",
              "min            1.0    0.623101\n",
              "25%            1.0    2.378653\n",
              "50%            1.0    2.966053\n",
              "75%            1.0    3.037776\n",
              "max            1.0    3.176821"
            ]
          },
          "metadata": {
            "tags": []
          },
          "execution_count": 4
        }
      ]
    },
    {
      "cell_type": "code",
      "metadata": {
        "id": "SZy2weTdpKHN"
      },
      "source": [
        ""
      ],
      "execution_count": null,
      "outputs": []
    },
    {
      "cell_type": "code",
      "metadata": {
        "id": "Ku4MWW5WpKR5"
      },
      "source": [
        ""
      ],
      "execution_count": null,
      "outputs": []
    },
    {
      "cell_type": "code",
      "metadata": {
        "id": "R3tMC1RHpKbH"
      },
      "source": [
        ""
      ],
      "execution_count": null,
      "outputs": []
    },
    {
      "cell_type": "code",
      "metadata": {
        "colab": {
          "base_uri": "https://localhost:8080/"
        },
        "id": "MVdFXEY3pK4L",
        "outputId": "f56c7ea2-d4b6-4402-b8d8-cf1bd7b07ede"
      },
      "source": [
        "import pandas as pd\n",
        "import numpy as np\n",
        "\n",
        "# Reading Raw JSON file \n",
        "raw_data=pd.read_json(\"/content/drive/MyDrive/Home_Security_Json_Data_Preprocessing/Home_Security_Raw_alphapose-results.json\")\n",
        "\n",
        "#taking only keypoint column from raw data\n",
        "keypoint=raw_data['keypoints'] \n",
        "\n",
        "# getting length of raw_data\n",
        "raw_data_length=raw_data.index\n",
        "raw_data_length=list(raw_data_length)\n",
        "raw_data_length=raw_data_length[-1]\n",
        "raw_data_length=raw_data_length+1\n",
        "\n",
        "\n",
        "# creating dummy data\n",
        "df=np.zeros((raw_data_length,34))\n",
        "\n",
        "# defining coloumn names \n",
        "columns=[\"Nose_X\",\"Nose_Y\",\"LEye_X\",\"LEye_Y\",\"REye_X\",\"REye_Y\",\"LEar_X\",\"LEar_Y\",\"REar_X\",\"REar_Y\",\n",
        "         \"LShoulder_X\",\"LShoulder_Y\",\"RShoulder_X\",\"RShoulder_Y\",\"LElbow_X\",\"LElbow_Y\",\"RElbow_X\",\"RElbow_Y\",\n",
        "         \"LWrist_X\",\"LWrist_Y\",\"RWrist_X\",\"RWrist_Y\",\"LHip_X\",\"LHip_Y\",\"RHip_X\",\"RHip_Y\",\"LKnee_X\",\"LKnee_Y\",\n",
        "         \"Rknee_X\",\"Rknee_Y\",\"LAnkle_X\",\"LAnkle_Y\",\"RAnkle_X\",\"RAnkle_Y\"]\n",
        "\n",
        "# creating dataframe for 17 keypoints\n",
        "data=pd.DataFrame(df,columns=columns)\n",
        "\n",
        "# sorting only x,y co-ordinate values of 17 keypoints (not score for each keypoint)& appending in column\n",
        "for i in range(0,raw_data_length):\n",
        "    data.loc[[i],[\"Nose_X\"]]=keypoint[i][0]\n",
        "    data.loc[[i],[\"Nose_Y\"]]=keypoint[i][1]\n",
        "    data.loc[[i],[\"LEye_X\"]]=keypoint[i][3]\n",
        "    data.loc[[i],[\"LEye_Y\"]]=keypoint[i][4]\n",
        "    data.loc[[i],[\"REye_X\"]]=keypoint[i][6]\n",
        "    data.loc[[i],[\"REye_Y\"]]=keypoint[i][7]\n",
        "    data.loc[[i],[\"LEar_X\"]]=keypoint[i][9]\n",
        "    data.loc[[i],[\"LEar_Y\"]]=keypoint[i][10]\n",
        "    data.loc[[i],[\"REar_X\"]]=keypoint[i][12]\n",
        "    data.loc[[i],[\"REar_Y\"]]=keypoint[i][13]\n",
        "    data.loc[[i],[\"LShoulder_X\"]]=keypoint[i][15]\n",
        "    data.loc[[i],[\"LShoulder_Y\"]]=keypoint[i][16]\n",
        "    data.loc[[i],[\"RShoulder_X\"]]=keypoint[i][18]\n",
        "    data.loc[[i],[\"RShoulder_Y\"]]=keypoint[i][19]\n",
        "    data.loc[[i],[\"LElbow_X\"]]=keypoint[i][21]\n",
        "    data.loc[[i],[\"LElbow_Y\"]]=keypoint[i][22]\n",
        "    data.loc[[i],[\"RElbow_X\"]]=keypoint[i][24]\n",
        "    data.loc[[i],[\"RElbow_Y\"]]=keypoint[i][25]\n",
        "    data.loc[[i],[\"LWrist_X\"]]=keypoint[i][27]\n",
        "    data.loc[[i],[\"LWrist_Y\"]]=keypoint[i][28]\n",
        "    data.loc[[i],[\"RWrist_X\"]]=keypoint[i][30]\n",
        "    data.loc[[i],[\"RWrist_Y\"]]=keypoint[i][31]\n",
        "    data.loc[[i],[\"LHip_X\"]]=keypoint[i][33]\n",
        "    data.loc[[i],[\"LHip_Y\"]]=keypoint[i][34]\n",
        "    data.loc[[i],[\"RHip_X\"]]=keypoint[i][36]\n",
        "    data.loc[[i],[\"RHip_Y\"]]=keypoint[i][37]\n",
        "    data.loc[[i],[\"LKnee_X\"]]=keypoint[i][39]\n",
        "    data.loc[[i],[\"LKnee_Y\"]]=keypoint[i][40]\n",
        "    data.loc[[i],[\"Rknee_X\"]]=keypoint[i][42]\n",
        "    data.loc[[i],[\"Rknee_Y\"]]=keypoint[i][43]\n",
        "    data.loc[[i],[\"LAnkle_X\"]]=keypoint[i][45]\n",
        "    data.loc[[i],[\"LAnkle_Y\"]]=keypoint[i][46]\n",
        "    data.loc[[i],[\"RAnkle_X\"]]=keypoint[i][48]\n",
        "    data.loc[[i],[\"RAnkle_Y\"]]=keypoint[i][49]  \n",
        "    \n",
        "# adding detected score of each Skeleton    \n",
        "data[\"Score\"]=raw_data[\"score\"]  \n",
        "\n",
        "# adding associated output action by referencing image name score of each Skeleton    \n",
        "data[\"Actions\"]=raw_data[\"image_id\"] \n",
        "for i in range(0,raw_data_length):\n",
        "    a = data[\"Actions\"][i]\n",
        "    a = a.split(\"_\")[0]\n",
        "    data.loc[[i],[\"Actions\"]] = a\n",
        "    \n",
        "# now give numerical categorical value for this activity classes\n",
        "for i in range(0,raw_data_length):\n",
        "    if data['Actions'][i] == \"climbing\":\n",
        "        data['Actions'][i] = 0\n",
        "        \n",
        "    if data['Actions'][i] == \"standing\":\n",
        "        data['Actions'][i] = 1\n",
        "          \n",
        "        "
      ],
      "execution_count": null,
      "outputs": [
        {
          "output_type": "stream",
          "text": [
            "/usr/local/lib/python3.6/dist-packages/ipykernel_launcher.py:79: SettingWithCopyWarning: \n",
            "A value is trying to be set on a copy of a slice from a DataFrame\n",
            "\n",
            "See the caveats in the documentation: https://pandas.pydata.org/pandas-docs/stable/user_guide/indexing.html#returning-a-view-versus-a-copy\n",
            "/usr/local/lib/python3.6/dist-packages/ipykernel_launcher.py:82: SettingWithCopyWarning: \n",
            "A value is trying to be set on a copy of a slice from a DataFrame\n",
            "\n",
            "See the caveats in the documentation: https://pandas.pydata.org/pandas-docs/stable/user_guide/indexing.html#returning-a-view-versus-a-copy\n"
          ],
          "name": "stderr"
        }
      ]
    },
    {
      "cell_type": "code",
      "metadata": {
        "colab": {
          "base_uri": "https://localhost:8080/",
          "height": 224
        },
        "id": "LGX21kKbqc6b",
        "outputId": "0cd27ba3-aa77-4dd1-ba83-7908f2a6cf85"
      },
      "source": [
        "data.tail()"
      ],
      "execution_count": null,
      "outputs": [
        {
          "output_type": "execute_result",
          "data": {
            "text/html": [
              "<div>\n",
              "<style scoped>\n",
              "    .dataframe tbody tr th:only-of-type {\n",
              "        vertical-align: middle;\n",
              "    }\n",
              "\n",
              "    .dataframe tbody tr th {\n",
              "        vertical-align: top;\n",
              "    }\n",
              "\n",
              "    .dataframe thead th {\n",
              "        text-align: right;\n",
              "    }\n",
              "</style>\n",
              "<table border=\"1\" class=\"dataframe\">\n",
              "  <thead>\n",
              "    <tr style=\"text-align: right;\">\n",
              "      <th></th>\n",
              "      <th>Nose_X</th>\n",
              "      <th>Nose_Y</th>\n",
              "      <th>LEye_X</th>\n",
              "      <th>LEye_Y</th>\n",
              "      <th>REye_X</th>\n",
              "      <th>REye_Y</th>\n",
              "      <th>LEar_X</th>\n",
              "      <th>LEar_Y</th>\n",
              "      <th>REar_X</th>\n",
              "      <th>REar_Y</th>\n",
              "      <th>LShoulder_X</th>\n",
              "      <th>LShoulder_Y</th>\n",
              "      <th>RShoulder_X</th>\n",
              "      <th>RShoulder_Y</th>\n",
              "      <th>LElbow_X</th>\n",
              "      <th>LElbow_Y</th>\n",
              "      <th>RElbow_X</th>\n",
              "      <th>RElbow_Y</th>\n",
              "      <th>LWrist_X</th>\n",
              "      <th>LWrist_Y</th>\n",
              "      <th>RWrist_X</th>\n",
              "      <th>RWrist_Y</th>\n",
              "      <th>LHip_X</th>\n",
              "      <th>LHip_Y</th>\n",
              "      <th>RHip_X</th>\n",
              "      <th>RHip_Y</th>\n",
              "      <th>LKnee_X</th>\n",
              "      <th>LKnee_Y</th>\n",
              "      <th>Rknee_X</th>\n",
              "      <th>Rknee_Y</th>\n",
              "      <th>LAnkle_X</th>\n",
              "      <th>LAnkle_Y</th>\n",
              "      <th>RAnkle_X</th>\n",
              "      <th>RAnkle_Y</th>\n",
              "      <th>Score</th>\n",
              "      <th>Actions</th>\n",
              "    </tr>\n",
              "  </thead>\n",
              "  <tbody>\n",
              "    <tr>\n",
              "      <th>802</th>\n",
              "      <td>810.069153</td>\n",
              "      <td>859.428406</td>\n",
              "      <td>810.069153</td>\n",
              "      <td>841.799011</td>\n",
              "      <td>810.069153</td>\n",
              "      <td>841.799011</td>\n",
              "      <td>845.327881</td>\n",
              "      <td>912.316528</td>\n",
              "      <td>1021.621582</td>\n",
              "      <td>894.687134</td>\n",
              "      <td>810.069153</td>\n",
              "      <td>1070.980835</td>\n",
              "      <td>1092.139038</td>\n",
              "      <td>1000.463379</td>\n",
              "      <td>686.663574</td>\n",
              "      <td>824.169678</td>\n",
              "      <td>1092.139038</td>\n",
              "      <td>806.540283</td>\n",
              "      <td>633.775452</td>\n",
              "      <td>577.358459</td>\n",
              "      <td>1039.250977</td>\n",
              "      <td>577.358459</td>\n",
              "      <td>933.474731</td>\n",
              "      <td>1529.344482</td>\n",
              "      <td>1092.139038</td>\n",
              "      <td>1494.085693</td>\n",
              "      <td>862.957275</td>\n",
              "      <td>1864.302490</td>\n",
              "      <td>898.216003</td>\n",
              "      <td>1740.896973</td>\n",
              "      <td>951.104126</td>\n",
              "      <td>2181.631104</td>\n",
              "      <td>898.216003</td>\n",
              "      <td>1846.673096</td>\n",
              "      <td>3.018572</td>\n",
              "      <td>1</td>\n",
              "    </tr>\n",
              "    <tr>\n",
              "      <th>803</th>\n",
              "      <td>770.137939</td>\n",
              "      <td>1368.389771</td>\n",
              "      <td>770.137939</td>\n",
              "      <td>1350.800049</td>\n",
              "      <td>752.548157</td>\n",
              "      <td>1350.800049</td>\n",
              "      <td>787.727722</td>\n",
              "      <td>1385.979614</td>\n",
              "      <td>981.215454</td>\n",
              "      <td>1368.389771</td>\n",
              "      <td>770.137939</td>\n",
              "      <td>1544.287720</td>\n",
              "      <td>1069.164429</td>\n",
              "      <td>1491.518433</td>\n",
              "      <td>629.419556</td>\n",
              "      <td>1298.030640</td>\n",
              "      <td>1174.703125</td>\n",
              "      <td>1280.440918</td>\n",
              "      <td>594.239990</td>\n",
              "      <td>1069.363403</td>\n",
              "      <td>1069.164429</td>\n",
              "      <td>1051.773560</td>\n",
              "      <td>858.086914</td>\n",
              "      <td>2054.391846</td>\n",
              "      <td>1033.984863</td>\n",
              "      <td>2089.571289</td>\n",
              "      <td>576.650208</td>\n",
              "      <td>1843.314209</td>\n",
              "      <td>928.446045</td>\n",
              "      <td>2371.008057</td>\n",
              "      <td>576.650208</td>\n",
              "      <td>2054.391846</td>\n",
              "      <td>963.625671</td>\n",
              "      <td>2687.624268</td>\n",
              "      <td>3.075532</td>\n",
              "      <td>1</td>\n",
              "    </tr>\n",
              "    <tr>\n",
              "      <th>804</th>\n",
              "      <td>408.644135</td>\n",
              "      <td>825.394775</td>\n",
              "      <td>409.260406</td>\n",
              "      <td>822.929565</td>\n",
              "      <td>408.027832</td>\n",
              "      <td>822.929565</td>\n",
              "      <td>403.097504</td>\n",
              "      <td>821.697021</td>\n",
              "      <td>403.713806</td>\n",
              "      <td>822.313293</td>\n",
              "      <td>401.248627</td>\n",
              "      <td>830.941406</td>\n",
              "      <td>396.318298</td>\n",
              "      <td>829.092529</td>\n",
              "      <td>406.795258</td>\n",
              "      <td>840.185730</td>\n",
              "      <td>391.387970</td>\n",
              "      <td>831.557678</td>\n",
              "      <td>418.504791</td>\n",
              "      <td>841.418335</td>\n",
              "      <td>388.922821</td>\n",
              "      <td>840.802063</td>\n",
              "      <td>403.097504</td>\n",
              "      <td>862.372192</td>\n",
              "      <td>396.934601</td>\n",
              "      <td>866.686279</td>\n",
              "      <td>424.667694</td>\n",
              "      <td>862.372192</td>\n",
              "      <td>421.586243</td>\n",
              "      <td>871.000305</td>\n",
              "      <td>423.435120</td>\n",
              "      <td>852.511536</td>\n",
              "      <td>422.202515</td>\n",
              "      <td>851.895264</td>\n",
              "      <td>1.486715</td>\n",
              "      <td>1</td>\n",
              "    </tr>\n",
              "    <tr>\n",
              "      <th>805</th>\n",
              "      <td>386.580414</td>\n",
              "      <td>828.636108</td>\n",
              "      <td>386.580414</td>\n",
              "      <td>826.163269</td>\n",
              "      <td>385.343994</td>\n",
              "      <td>826.163269</td>\n",
              "      <td>379.780029</td>\n",
              "      <td>826.781494</td>\n",
              "      <td>379.780029</td>\n",
              "      <td>827.399719</td>\n",
              "      <td>373.597870</td>\n",
              "      <td>837.909363</td>\n",
              "      <td>379.780029</td>\n",
              "      <td>837.909363</td>\n",
              "      <td>374.834290</td>\n",
              "      <td>855.837646</td>\n",
              "      <td>376.070740</td>\n",
              "      <td>854.601196</td>\n",
              "      <td>377.925385</td>\n",
              "      <td>868.820190</td>\n",
              "      <td>377.307159</td>\n",
              "      <td>869.438416</td>\n",
              "      <td>378.543610</td>\n",
              "      <td>868.820190</td>\n",
              "      <td>381.634674</td>\n",
              "      <td>869.438416</td>\n",
              "      <td>381.016479</td>\n",
              "      <td>858.310486</td>\n",
              "      <td>408.527100</td>\n",
              "      <td>867.892822</td>\n",
              "      <td>381.634674</td>\n",
              "      <td>870.674805</td>\n",
              "      <td>381.016479</td>\n",
              "      <td>871.911255</td>\n",
              "      <td>2.010567</td>\n",
              "      <td>1</td>\n",
              "    </tr>\n",
              "    <tr>\n",
              "      <th>806</th>\n",
              "      <td>363.975464</td>\n",
              "      <td>834.884277</td>\n",
              "      <td>361.350037</td>\n",
              "      <td>832.915222</td>\n",
              "      <td>386.948059</td>\n",
              "      <td>826.351624</td>\n",
              "      <td>360.693695</td>\n",
              "      <td>820.444397</td>\n",
              "      <td>369.226349</td>\n",
              "      <td>820.444397</td>\n",
              "      <td>352.161011</td>\n",
              "      <td>832.258850</td>\n",
              "      <td>372.508148</td>\n",
              "      <td>837.509705</td>\n",
              "      <td>352.161011</td>\n",
              "      <td>849.980530</td>\n",
              "      <td>373.820862</td>\n",
              "      <td>854.575073</td>\n",
              "      <td>353.473724</td>\n",
              "      <td>869.014954</td>\n",
              "      <td>377.102661</td>\n",
              "      <td>869.671326</td>\n",
              "      <td>358.068237</td>\n",
              "      <td>865.733154</td>\n",
              "      <td>371.195435</td>\n",
              "      <td>868.358643</td>\n",
              "      <td>356.099152</td>\n",
              "      <td>858.513245</td>\n",
              "      <td>386.948059</td>\n",
              "      <td>868.358643</td>\n",
              "      <td>356.099152</td>\n",
              "      <td>871.640442</td>\n",
              "      <td>373.164520</td>\n",
              "      <td>873.609497</td>\n",
              "      <td>1.238515</td>\n",
              "      <td>1</td>\n",
              "    </tr>\n",
              "  </tbody>\n",
              "</table>\n",
              "</div>"
            ],
            "text/plain": [
              "         Nose_X       Nose_Y      LEye_X  ...     RAnkle_Y     Score  Actions\n",
              "802  810.069153   859.428406  810.069153  ...  1846.673096  3.018572        1\n",
              "803  770.137939  1368.389771  770.137939  ...  2687.624268  3.075532        1\n",
              "804  408.644135   825.394775  409.260406  ...   851.895264  1.486715        1\n",
              "805  386.580414   828.636108  386.580414  ...   871.911255  2.010567        1\n",
              "806  363.975464   834.884277  361.350037  ...   873.609497  1.238515        1\n",
              "\n",
              "[5 rows x 36 columns]"
            ]
          },
          "metadata": {
            "tags": []
          },
          "execution_count": 7
        }
      ]
    },
    {
      "cell_type": "code",
      "metadata": {
        "colab": {
          "base_uri": "https://localhost:8080/"
        },
        "id": "e14LYkpSrG90",
        "outputId": "f9f9047f-f2c6-4126-e07a-fd7efdcc5fe5"
      },
      "source": [
        "data.columns"
      ],
      "execution_count": null,
      "outputs": [
        {
          "output_type": "execute_result",
          "data": {
            "text/plain": [
              "Index(['Nose_X', 'Nose_Y', 'LEye_X', 'LEye_Y', 'REye_X', 'REye_Y', 'LEar_X',\n",
              "       'LEar_Y', 'REar_X', 'REar_Y', 'LShoulder_X', 'LShoulder_Y',\n",
              "       'RShoulder_X', 'RShoulder_Y', 'LElbow_X', 'LElbow_Y', 'RElbow_X',\n",
              "       'RElbow_Y', 'LWrist_X', 'LWrist_Y', 'RWrist_X', 'RWrist_Y', 'LHip_X',\n",
              "       'LHip_Y', 'RHip_X', 'RHip_Y', 'LKnee_X', 'LKnee_Y', 'Rknee_X',\n",
              "       'Rknee_Y', 'LAnkle_X', 'LAnkle_Y', 'RAnkle_X', 'RAnkle_Y', 'Score',\n",
              "       'Actions'],\n",
              "      dtype='object')"
            ]
          },
          "metadata": {
            "tags": []
          },
          "execution_count": 14
        }
      ]
    },
    {
      "cell_type": "code",
      "metadata": {
        "colab": {
          "base_uri": "https://localhost:8080/"
        },
        "id": "nOhZMF7Nq3D2",
        "outputId": "bc2465fa-1132-46a9-a9b9-caf335b1e343"
      },
      "source": [
        "data['Actions'].unique()"
      ],
      "execution_count": null,
      "outputs": [
        {
          "output_type": "execute_result",
          "data": {
            "text/plain": [
              "array([0, 1], dtype=object)"
            ]
          },
          "metadata": {
            "tags": []
          },
          "execution_count": 8
        }
      ]
    },
    {
      "cell_type": "code",
      "metadata": {
        "id": "4MyKJGJZq5ro"
      },
      "source": [
        "# Saving All Features"
      ],
      "execution_count": null,
      "outputs": []
    },
    {
      "cell_type": "code",
      "metadata": {
        "id": "ggtQQ1Z7q9Fi"
      },
      "source": [
        "data.to_csv(\"Home_Security_alphapose_result.csv\")"
      ],
      "execution_count": null,
      "outputs": []
    },
    {
      "cell_type": "code",
      "metadata": {
        "id": "GBPc_rK3sbYV"
      },
      "source": [
        ""
      ],
      "execution_count": null,
      "outputs": []
    },
    {
      "cell_type": "code",
      "metadata": {
        "id": "9UhwTDGtra3l"
      },
      "source": [
        ""
      ],
      "execution_count": null,
      "outputs": []
    },
    {
      "cell_type": "code",
      "metadata": {
        "id": "Hcs0S6Fxra7N"
      },
      "source": [
        "# Saving Only Required Features( No eye,ear,nose)"
      ],
      "execution_count": null,
      "outputs": []
    },
    {
      "cell_type": "code",
      "metadata": {
        "id": "I78AoMWfrsEO"
      },
      "source": [
        "data.drop(['Nose_X', 'Nose_Y', 'LEye_X', 'LEye_Y', 'REye_X', 'REye_Y', 'LEar_X','LEar_Y', 'REar_X', 'REar_Y'],axis=1,inplace=True)"
      ],
      "execution_count": null,
      "outputs": []
    },
    {
      "cell_type": "code",
      "metadata": {
        "colab": {
          "base_uri": "https://localhost:8080/",
          "height": 224
        },
        "id": "65Vbf0oDsTrD",
        "outputId": "6ef8a116-69ea-4bbd-8571-abffc27cf886"
      },
      "source": [
        "data.head()"
      ],
      "execution_count": null,
      "outputs": [
        {
          "output_type": "execute_result",
          "data": {
            "text/html": [
              "<div>\n",
              "<style scoped>\n",
              "    .dataframe tbody tr th:only-of-type {\n",
              "        vertical-align: middle;\n",
              "    }\n",
              "\n",
              "    .dataframe tbody tr th {\n",
              "        vertical-align: top;\n",
              "    }\n",
              "\n",
              "    .dataframe thead th {\n",
              "        text-align: right;\n",
              "    }\n",
              "</style>\n",
              "<table border=\"1\" class=\"dataframe\">\n",
              "  <thead>\n",
              "    <tr style=\"text-align: right;\">\n",
              "      <th></th>\n",
              "      <th>LShoulder_X</th>\n",
              "      <th>LShoulder_Y</th>\n",
              "      <th>RShoulder_X</th>\n",
              "      <th>RShoulder_Y</th>\n",
              "      <th>LElbow_X</th>\n",
              "      <th>LElbow_Y</th>\n",
              "      <th>RElbow_X</th>\n",
              "      <th>RElbow_Y</th>\n",
              "      <th>LWrist_X</th>\n",
              "      <th>LWrist_Y</th>\n",
              "      <th>RWrist_X</th>\n",
              "      <th>RWrist_Y</th>\n",
              "      <th>LHip_X</th>\n",
              "      <th>LHip_Y</th>\n",
              "      <th>RHip_X</th>\n",
              "      <th>RHip_Y</th>\n",
              "      <th>LKnee_X</th>\n",
              "      <th>LKnee_Y</th>\n",
              "      <th>Rknee_X</th>\n",
              "      <th>Rknee_Y</th>\n",
              "      <th>LAnkle_X</th>\n",
              "      <th>LAnkle_Y</th>\n",
              "      <th>RAnkle_X</th>\n",
              "      <th>RAnkle_Y</th>\n",
              "      <th>Score</th>\n",
              "      <th>Actions</th>\n",
              "    </tr>\n",
              "  </thead>\n",
              "  <tbody>\n",
              "    <tr>\n",
              "      <th>0</th>\n",
              "      <td>981.965332</td>\n",
              "      <td>779.927368</td>\n",
              "      <td>1307.323608</td>\n",
              "      <td>934.044495</td>\n",
              "      <td>725.103516</td>\n",
              "      <td>779.927368</td>\n",
              "      <td>1290.199585</td>\n",
              "      <td>1242.278687</td>\n",
              "      <td>1033.337769</td>\n",
              "      <td>728.554993</td>\n",
              "      <td>1324.447754</td>\n",
              "      <td>985.416870</td>\n",
              "      <td>793.600037</td>\n",
              "      <td>1396.395752</td>\n",
              "      <td>964.841248</td>\n",
              "      <td>1447.768066</td>\n",
              "      <td>1016.213623</td>\n",
              "      <td>1721.754028</td>\n",
              "      <td>1341.571899</td>\n",
              "      <td>1670.381714</td>\n",
              "      <td>896.344727</td>\n",
              "      <td>2098.484619</td>\n",
              "      <td>1118.958374</td>\n",
              "      <td>1995.739990</td>\n",
              "      <td>3.024694</td>\n",
              "      <td>0</td>\n",
              "    </tr>\n",
              "    <tr>\n",
              "      <th>1</th>\n",
              "      <td>939.461426</td>\n",
              "      <td>770.322998</td>\n",
              "      <td>1204.105957</td>\n",
              "      <td>749.965759</td>\n",
              "      <td>695.174133</td>\n",
              "      <td>811.037598</td>\n",
              "      <td>1428.035889</td>\n",
              "      <td>912.823914</td>\n",
              "      <td>1265.177734</td>\n",
              "      <td>770.322998</td>\n",
              "      <td>1346.606812</td>\n",
              "      <td>770.322998</td>\n",
              "      <td>796.960510</td>\n",
              "      <td>1360.683960</td>\n",
              "      <td>939.461426</td>\n",
              "      <td>1401.398438</td>\n",
              "      <td>1061.604980</td>\n",
              "      <td>1584.613892</td>\n",
              "      <td>919.104126</td>\n",
              "      <td>1889.973022</td>\n",
              "      <td>919.104126</td>\n",
              "      <td>1869.615723</td>\n",
              "      <td>837.675049</td>\n",
              "      <td>2358.190186</td>\n",
              "      <td>2.932522</td>\n",
              "      <td>0</td>\n",
              "    </tr>\n",
              "    <tr>\n",
              "      <th>2</th>\n",
              "      <td>857.436951</td>\n",
              "      <td>802.338318</td>\n",
              "      <td>1206.240356</td>\n",
              "      <td>785.728638</td>\n",
              "      <td>624.901306</td>\n",
              "      <td>901.996460</td>\n",
              "      <td>1372.337158</td>\n",
              "      <td>951.825500</td>\n",
              "      <td>707.949768</td>\n",
              "      <td>818.947998</td>\n",
              "      <td>1488.604980</td>\n",
              "      <td>951.825500</td>\n",
              "      <td>923.875671</td>\n",
              "      <td>1317.238525</td>\n",
              "      <td>1189.630615</td>\n",
              "      <td>1300.628906</td>\n",
              "      <td>840.827271</td>\n",
              "      <td>1616.212891</td>\n",
              "      <td>1322.508057</td>\n",
              "      <td>1466.725708</td>\n",
              "      <td>890.656311</td>\n",
              "      <td>1981.625977</td>\n",
              "      <td>1139.801636</td>\n",
              "      <td>1815.529053</td>\n",
              "      <td>2.855166</td>\n",
              "      <td>0</td>\n",
              "    </tr>\n",
              "    <tr>\n",
              "      <th>3</th>\n",
              "      <td>831.064209</td>\n",
              "      <td>998.531433</td>\n",
              "      <td>1187.107422</td>\n",
              "      <td>942.314087</td>\n",
              "      <td>999.716248</td>\n",
              "      <td>961.053162</td>\n",
              "      <td>1411.976929</td>\n",
              "      <td>1036.009644</td>\n",
              "      <td>1187.107422</td>\n",
              "      <td>904.835815</td>\n",
              "      <td>1318.281372</td>\n",
              "      <td>904.835815</td>\n",
              "      <td>1018.455383</td>\n",
              "      <td>1598.183228</td>\n",
              "      <td>1224.585693</td>\n",
              "      <td>1579.444214</td>\n",
              "      <td>699.890320</td>\n",
              "      <td>1541.965942</td>\n",
              "      <td>1187.107422</td>\n",
              "      <td>1972.965698</td>\n",
              "      <td>980.977173</td>\n",
              "      <td>1804.313599</td>\n",
              "      <td>1243.324829</td>\n",
              "      <td>2347.748047</td>\n",
              "      <td>2.944008</td>\n",
              "      <td>0</td>\n",
              "    </tr>\n",
              "    <tr>\n",
              "      <th>4</th>\n",
              "      <td>1377.662354</td>\n",
              "      <td>876.392334</td>\n",
              "      <td>1356.939453</td>\n",
              "      <td>873.801941</td>\n",
              "      <td>1355.212524</td>\n",
              "      <td>886.753784</td>\n",
              "      <td>1354.349121</td>\n",
              "      <td>885.890320</td>\n",
              "      <td>1376.798950</td>\n",
              "      <td>872.938477</td>\n",
              "      <td>1350.895264</td>\n",
              "      <td>897.978699</td>\n",
              "      <td>1376.798950</td>\n",
              "      <td>874.665405</td>\n",
              "      <td>1356.075928</td>\n",
              "      <td>872.075012</td>\n",
              "      <td>1375.072021</td>\n",
              "      <td>913.520935</td>\n",
              "      <td>1356.075928</td>\n",
              "      <td>912.657471</td>\n",
              "      <td>1379.389282</td>\n",
              "      <td>946.332275</td>\n",
              "      <td>1361.256714</td>\n",
              "      <td>943.741943</td>\n",
              "      <td>0.792699</td>\n",
              "      <td>0</td>\n",
              "    </tr>\n",
              "  </tbody>\n",
              "</table>\n",
              "</div>"
            ],
            "text/plain": [
              "   LShoulder_X  LShoulder_Y  RShoulder_X  ...     RAnkle_Y     Score  Actions\n",
              "0   981.965332   779.927368  1307.323608  ...  1995.739990  3.024694        0\n",
              "1   939.461426   770.322998  1204.105957  ...  2358.190186  2.932522        0\n",
              "2   857.436951   802.338318  1206.240356  ...  1815.529053  2.855166        0\n",
              "3   831.064209   998.531433  1187.107422  ...  2347.748047  2.944008        0\n",
              "4  1377.662354   876.392334  1356.939453  ...   943.741943  0.792699        0\n",
              "\n",
              "[5 rows x 26 columns]"
            ]
          },
          "metadata": {
            "tags": []
          },
          "execution_count": 17
        }
      ]
    },
    {
      "cell_type": "code",
      "metadata": {
        "colab": {
          "base_uri": "https://localhost:8080/"
        },
        "id": "5q8-Wj0DsVib",
        "outputId": "08ae3a69-4650-4823-af01-909686afd3f0"
      },
      "source": [
        "data['Actions'].unique()"
      ],
      "execution_count": null,
      "outputs": [
        {
          "output_type": "execute_result",
          "data": {
            "text/plain": [
              "array([0, 1], dtype=object)"
            ]
          },
          "metadata": {
            "tags": []
          },
          "execution_count": 18
        }
      ]
    },
    {
      "cell_type": "code",
      "metadata": {
        "id": "aBBNH3e_scNo"
      },
      "source": [
        "data.to_csv(\"Home_Security_alphapose_result_without_nose_ear_eye_features.csv\")"
      ],
      "execution_count": null,
      "outputs": []
    }
  ]
}